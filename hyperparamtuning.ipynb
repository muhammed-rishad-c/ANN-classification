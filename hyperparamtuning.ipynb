{
 "cells": [
  {
   "cell_type": "code",
   "execution_count": 2,
   "id": "97ef48a6",
   "metadata": {},
   "outputs": [],
   "source": [
    "import pandas as pd\n",
    "from sklearn.model_selection import train_test_split,GridSearchCV\n",
    "from sklearn.preprocessing import LabelEncoder,OneHotEncoder,StandardScaler\n",
    "from sklearn.pipeline import Pipeline\n",
    "from scikeras.wrappers import KerasClassifier\n",
    "import tensorflow as tf\n",
    "from tensorflow.keras.models import Sequential\n",
    "from tensorflow.keras.layers import Dense\n",
    "from tensorflow.keras.callbacks import EarlyStopping\n"
   ]
  },
  {
   "cell_type": "code",
   "execution_count": 4,
   "id": "af7ded9d",
   "metadata": {},
   "outputs": [],
   "source": [
    "import pandas as pd\n",
    "\n",
    "df=pd.read_csv('data/Churn_Modelling.csv')\n",
    "\n",
    "df.drop(columns=['RowNumber','CustomerId','Surname'],axis=1,inplace=True)\n",
    "\n",
    "from sklearn.preprocessing import StandardScaler,LabelEncoder,OneHotEncoder\n",
    "from sklearn.model_selection import train_test_split\n",
    "\n",
    "x=df.drop('Exited',axis=1)\n",
    "label_encoder=LabelEncoder()\n",
    "\n",
    "x['Gender']=label_encoder.fit_transform(x['Gender'])\n",
    "\n",
    "one_hot_encoder=OneHotEncoder()\n",
    "\n",
    "geo_encoder=one_hot_encoder.fit_transform(x[['Geography']]).toarray()\n",
    "\n",
    "geo_encoder=pd.DataFrame(geo_encoder,columns=one_hot_encoder.get_feature_names_out(['Geography']))\n",
    "\n",
    "x=pd.concat((x.drop('Geography',axis=1),geo_encoder),axis=1)\n",
    "\n",
    "y=df['Exited']"
   ]
  },
  {
   "cell_type": "code",
   "execution_count": 5,
   "id": "7a68aadf",
   "metadata": {},
   "outputs": [],
   "source": [
    "scaler=StandardScaler()\n",
    "\n",
    "x_train,x_test,y_train,y_test=train_test_split(x,y,test_size=0.2,random_state=42)\n",
    "\n",
    "x_train=scaler.fit_transform(x_train)\n",
    "x_test=scaler.transform(x_test)"
   ]
  },
  {
   "cell_type": "code",
   "execution_count": 13,
   "id": "e45fe6aa",
   "metadata": {},
   "outputs": [],
   "source": [
    "def create_model(neuron=32,layers=1):\n",
    "    model=Sequential()\n",
    "    model.add(Dense(neuron,activation='relu',input_shape=(x_train.shape[1],)))\n",
    "    \n",
    "    for _ in range(layers-1):\n",
    "        model.add(Dense(neuron,activation='relu'))\n",
    "        \n",
    "    model.add(Dense(1,activation='sigmoid'))\n",
    "    \n",
    "    model.compile(optimizer='adam',loss='binary_crossentropy',metrics=['accuracy'])\n",
    "    \n",
    "    return model"
   ]
  },
  {
   "cell_type": "code",
   "execution_count": 14,
   "id": "94106b95",
   "metadata": {},
   "outputs": [],
   "source": [
    "model=KerasClassifier(layers=1,neuron=32,build_fn=create_model,epochs=50,batch_size=10,verbose=0)"
   ]
  },
  {
   "cell_type": "code",
   "execution_count": 15,
   "id": "69cda3b3",
   "metadata": {},
   "outputs": [],
   "source": [
    "param_grid={\n",
    "    'neuron':[16,32,64,128],\n",
    "    'layers':[1,2,3],\n",
    "    'epochs':[50,100]\n",
    "}"
   ]
  },
  {
   "cell_type": "code",
   "execution_count": 16,
   "id": "bd34c780",
   "metadata": {},
   "outputs": [
    {
     "name": "stderr",
     "output_type": "stream",
     "text": [
      "e:\\machine learning\\project\\ANN-classification\\venv\\Lib\\site-packages\\scikeras\\wrappers.py:925: UserWarning: ``build_fn`` will be renamed to ``model`` in a future release, at which point use of ``build_fn`` will raise an Error instead.\n",
      "  X, y = self._initialize(X, y)\n",
      "e:\\machine learning\\project\\ANN-classification\\venv\\Lib\\site-packages\\keras\\src\\layers\\core\\dense.py:93: UserWarning: Do not pass an `input_shape`/`input_dim` argument to a layer. When using Sequential models, prefer using an `Input(shape)` object as the first layer in the model instead.\n",
      "  super().__init__(activity_regularizer=activity_regularizer, **kwargs)\n"
     ]
    },
    {
     "name": "stdout",
     "output_type": "stream",
     "text": [
      "best : 0.857124432964259 using params {'epochs': 50, 'layers': 2, 'neuron': 16}\n"
     ]
    }
   ],
   "source": [
    "grid=GridSearchCV(estimator=model,param_grid=param_grid,n_jobs=-1,cv=3)\n",
    "grid_Result=grid.fit(x_train,y_train)\n",
    "\n",
    "print(f'best : {grid_Result.best_score_} using params {grid_Result.best_params_}')"
   ]
  },
  {
   "cell_type": "code",
   "execution_count": null,
   "id": "50344721",
   "metadata": {},
   "outputs": [],
   "source": []
  }
 ],
 "metadata": {
  "kernelspec": {
   "display_name": "Python 3",
   "language": "python",
   "name": "python3"
  },
  "language_info": {
   "codemirror_mode": {
    "name": "ipython",
    "version": 3
   },
   "file_extension": ".py",
   "mimetype": "text/x-python",
   "name": "python",
   "nbconvert_exporter": "python",
   "pygments_lexer": "ipython3",
   "version": "3.11.0"
  }
 },
 "nbformat": 4,
 "nbformat_minor": 5
}
